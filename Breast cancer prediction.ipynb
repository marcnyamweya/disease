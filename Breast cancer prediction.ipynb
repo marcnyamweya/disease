{
  "cells": [
    {
      "cell_type": "code",
      "execution_count": 9,
      "metadata": {
        "id": "VRU7jbaxxucD"
      },
      "outputs": [],
      "source": [
        "!cp /kaggle.json /root/.kaggle/kaggle.json\n",
        "!chmod 600 /root/.kaggle/kaggle.json"
      ]
    },
    {
      "cell_type": "code",
      "execution_count": 10,
      "metadata": {
        "id": "2_cjb2vcxK2p"
      },
      "outputs": [],
      "source": [
        "import kaggle\n",
        "kaggle.api.authenticate()"
      ]
    },
    {
      "cell_type": "code",
      "execution_count": 11,
      "metadata": {
        "id": "dz0vYoFzwI5g"
      },
      "outputs": [],
      "source": [
        "os.makedirs(\"mammograph_dataset\", exist_ok = True)"
      ]
    },
    {
      "cell_type": "code",
      "execution_count": 12,
      "metadata": {
        "colab": {
          "base_uri": "https://localhost:8080/"
        },
        "id": "hWGg_7kGyK3z",
        "outputId": "ef0c8352-7460-4adb-8449-67f44dd28dd0"
      },
      "outputs": [
        {
          "name": "stdout",
          "output_type": "stream",
          "text": [
            "Dataset URL: https://www.kaggle.com/datasets/paultimothymooney/breast-histopathology-images\n"
          ]
        }
      ],
      "source": [
        "kaggle.api.dataset_download_files(\n",
        "    'paultimothymooney/breast-histopathology-images'\n",
        "    ,path='/content/mammograph_dataset')"
      ]
    },
    {
      "cell_type": "code",
      "execution_count": 13,
      "metadata": {
        "id": "oclTgpz3-8qV"
      },
      "outputs": [],
      "source": [
        "import shutil"
      ]
    },
    {
      "cell_type": "code",
      "execution_count": 14,
      "metadata": {
        "id": "_QSTDowo_Q-a"
      },
      "outputs": [],
      "source": [
        "parent_folder = '/content/mammograph_dataset'\n",
        "destination_folder_0 = 'train'\n",
        "destination_folder_1 = 'test'\n",
        "destination_folder_2 = 'original_breast_images'\n",
        "destination_folder_3 = 'breast_images'\n",
        "\n",
        "os.makedirs(os.path.join(parent_folder, destination_folder_0), exist_ok=True)\n",
        "os.makedirs(os.path.join(parent_folder, destination_folder_1), exist_ok=True)\n",
        "os.makedirs(os.path.join(parent_folder, destination_folder_2), exist_ok=True)\n",
        "os.makedirs(os.path.join(parent_folder, destination_folder_3), exist_ok=True)"
      ]
    },
    {
      "cell_type": "code",
      "execution_count": 15,
      "metadata": {
        "id": "mUv8goJ0zdE3"
      },
      "outputs": [],
      "source": [
        "import zipfile"
      ]
    },
    {
      "cell_type": "code",
      "execution_count": 16,
      "metadata": {
        "id": "2S1jWKFm1acB"
      },
      "outputs": [],
      "source": [
        "parent_test_subfolder = '/content/mammograph_dataset/test'\n",
        "parent_train_subfolder = '/content/mammograph_dataset/train'\n",
        "feature_directory_0 = 'IDC'\n",
        "feature_directory_1 = 'Non-IDC'\n",
        "\n",
        "os.makedirs(os.path.join(parent_train_subfolder, feature_directory_0), exist_ok=True)\n",
        "os.makedirs(os.path.join(parent_train_subfolder, feature_directory_1), exist_ok=True)\n",
        "os.makedirs(os.path.join(parent_test_subfolder, feature_directory_0), exist_ok=True)\n",
        "os.makedirs(os.path.join(parent_test_subfolder, feature_directory_1), exist_ok=True)"
      ]
    },
    {
      "cell_type": "code",
      "execution_count": 17,
      "metadata": {
        "id": "SMq3CS0vzlNf"
      },
      "outputs": [],
      "source": [
        "with zipfile.ZipFile('/content/mammograph_dataset/breast-histopathology-images.zip', 'r') as zip_ref:\n",
        "  zip_ref.extractall('/content/mammograph_dataset/original_breast_images')"
      ]
    },
    {
      "cell_type": "code",
      "execution_count": 18,
      "metadata": {
        "id": "QARIQg8o85lZ"
      },
      "outputs": [],
      "source": [
        "shutil.rmtree('/content/mammograph_dataset/original_breast_images/IDC_regular_ps50_idx5', ignore_errors= True)"
      ]
    },
    {
      "cell_type": "code",
      "execution_count": 19,
      "metadata": {
        "id": "aIWBGUp1-mui"
      },
      "outputs": [],
      "source": [
        "parent_breast_subfolder = '/content/mammograph_dataset/breast_images'\n",
        "\n",
        "all_feature_directory_0 = 'IDC'\n",
        "all_feature_directory_1 = 'Non-IDC'\n",
        "\n",
        "os.makedirs(os.path.join(parent_breast_subfolder, all_feature_directory_0), exist_ok=True)\n",
        "os.makedirs(os.path.join(parent_breast_subfolder, all_feature_directory_1), exist_ok=True)"
      ]
    },
    {
      "cell_type": "code",
      "execution_count": 20,
      "metadata": {
        "id": "SrunxYyU_30o"
      },
      "outputs": [],
      "source": [
        "for root, dirs, files in os.walk('/content/mammograph_dataset/original_breast_images'):\n",
        "  if '0' in dirs:\n",
        "    non_IDC_folder = os.path.join(root, '0')\n",
        "    for file in os.listdir(non_IDC_folder):\n",
        "      source_path = os.path.join(non_IDC_folder, file)\n",
        "      destination_path = '/content/mammograph_dataset/breast_images/Non-IDC'\n",
        "      shutil.move(source_path, destination_path)\n",
        "  if '1' in dirs:\n",
        "    IDC_folder = os.path.join(root, '1')\n",
        "    for file in os.listdir(IDC_folder):\n",
        "      source_path = os.path.join(IDC_folder, file)\n",
        "      destination_path = '/content/mammograph_dataset/breast_images/IDC'\n",
        "      shutil.move(source_path, destination_path)"
      ]
    },
    {
      "cell_type": "code",
      "execution_count": 21,
      "metadata": {
        "colab": {
          "base_uri": "https://localhost:8080/"
        },
        "collapsed": true,
        "id": "BUm8qsArBChA",
        "outputId": "1d523d61-03a7-4a24-85a2-83c32791c8ed"
      },
      "outputs": [
        {
          "name": "stdout",
          "output_type": "stream",
          "text": [
            "78786\n"
          ]
        }
      ],
      "source": [
        "directory_path = '/content/mammograph_dataset/breast_images/IDC'\n",
        "file_count = 0\n",
        "\n",
        "for filename in os.listdir(directory_path):\n",
        "  file_count += 1\n",
        "print(file_count)"
      ]
    },
    {
      "cell_type": "code",
      "execution_count": 22,
      "metadata": {
        "id": "3VokawzsDxJz"
      },
      "outputs": [],
      "source": [
        "source_IDC_folder = '/content/mammograph_dataset/breast_images/IDC'\n",
        "image_files = [f for f in os.listdir(source_IDC_folder)]\n",
        "\n",
        "split_index = int(len(image_files) * 0.8)\n",
        "for i, file in enumerate(image_files):\n",
        "  if i < split_index:\n",
        "    destination_IDC_path = '/content/mammograph_dataset/train/IDC'\n",
        "  else:\n",
        "    destination_IDC_path = '/content/mammograph_dataset/test/IDC'\n",
        "\n",
        "  source_path_img = os.path.join(source_IDC_folder, file)\n",
        "  destination_path_img = os.path.join(destination_IDC_path, file)\n",
        "  shutil.copy(source_path_img, destination_path_img)"
      ]
    },
    {
      "cell_type": "code",
      "execution_count": 23,
      "metadata": {
        "id": "ECgYuJMedkdO"
      },
      "outputs": [],
      "source": [
        "source_IDC_folder = '/content/mammograph_dataset/breast_images/Non-IDC'\n",
        "image_files = [f for f in os.listdir(source_IDC_folder)]\n",
        "\n",
        "split_index = int(len(image_files) * 0.8)\n",
        "for i, file in enumerate(image_files):\n",
        "  if i < split_index:\n",
        "    destination_IDC_path = '/content/mammograph_dataset/train/Non-IDC'\n",
        "  else:\n",
        "    destination_IDC_path = '/content/mammograph_dataset/test/Non-IDC'\n",
        "\n",
        "  source_path_img = os.path.join(source_IDC_folder, file)\n",
        "  destination_path_img = os.path.join(destination_IDC_path, file)\n",
        "  shutil.copy(source_path_img, destination_path_img)"
      ]
    },
    {
      "cell_type": "code",
      "execution_count": 32,
      "metadata": {
        "colab": {
          "base_uri": "https://localhost:8080/"
        },
        "id": "TxWK1CevefEW",
        "outputId": "0f2c2419-b13c-4986-eea0-c28757e9889b"
      },
      "outputs": [
        {
          "name": "stdout",
          "output_type": "stream",
          "text": [
            "15758\n"
          ]
        }
      ],
      "source": [
        "directory_path = '/content/mammograph_dataset/test/IDC'\n",
        "file_count = 0\n",
        "\n",
        "for filename in os.listdir(directory_path):\n",
        "  file_count += 1\n",
        "print(file_count)"
      ]
    },
    {
      "cell_type": "code",
      "execution_count": 25,
      "metadata": {
        "id": "Ce--qZCxffEa"
      },
      "outputs": [],
      "source": [
        "import tensorflow as tf\n",
        "from tensorflow.keras.preprocessing.image import ImageDataGenerator"
      ]
    },
    {
      "cell_type": "code",
      "execution_count": 26,
      "metadata": {
        "colab": {
          "base_uri": "https://localhost:8080/"
        },
        "id": "L9i24JTugMf7",
        "outputId": "4d2e34a5-7141-4d39-f0af-846be8748d30"
      },
      "outputs": [
        {
          "name": "stdout",
          "output_type": "stream",
          "text": [
            "Requirement already satisfied: opencv-python in /usr/local/lib/python3.10/dist-packages (4.8.0.76)\n",
            "Requirement already satisfied: numpy>=1.21.2 in /usr/local/lib/python3.10/dist-packages (from opencv-python) (1.25.2)\n"
          ]
        }
      ],
      "source": [
        "!pip install opencv-python\n",
        "import cv2"
      ]
    },
    {
      "cell_type": "code",
      "execution_count": 34,
      "metadata": {
        "colab": {
          "base_uri": "https://localhost:8080/"
        },
        "id": "-FpwvrLRgbUB",
        "outputId": "9dc037ca-29dc-492e-c5ec-157ba09e8a93"
      },
      "outputs": [
        {
          "name": "stdout",
          "output_type": "stream",
          "text": [
            "Image shape: 50, 50, 3\n"
          ]
        }
      ],
      "source": [
        "image_path = \"/content/mammograph_dataset/test/IDC/10253_idx5_x601_y351_class1.png\"\n",
        "image = cv2.imread(image_path)\n",
        "height, width, channels = image.shape\n",
        "print(f\"Image shape: {height}, {width}, {channels}\")"
      ]
    },
    {
      "cell_type": "code",
      "execution_count": 35,
      "metadata": {
        "id": "FpnpJoXPfvkN"
      },
      "outputs": [],
      "source": [
        "train_datagen = ImageDataGenerator(\n",
        "    rescale=1./255,\n",
        "    rotation_range=20,\n",
        "    width_shift_range=0.2,\n",
        "    height_shift_range=0.2,\n",
        "    shear_range=0.2,\n",
        "    zoom_range=0.2,\n",
        "    horizontal_flip=True,\n",
        "    fill_mode='nearest'\n",
        ")"
      ]
    },
    {
      "cell_type": "code",
      "execution_count": 36,
      "metadata": {
        "colab": {
          "base_uri": "https://localhost:8080/"
        },
        "id": "cjDcH9uMkNXL",
        "outputId": "5114326d-1e77-4028-ebb4-f30978d9a48e"
      },
      "outputs": [
        {
          "name": "stdout",
          "output_type": "stream",
          "text": [
            "Found 222018 images belonging to 2 classes.\n"
          ]
        }
      ],
      "source": [
        "train_generator = train_datagen.flow_from_directory(\n",
        "    '/content/mammograph_dataset/train',\n",
        "    target_size=(50, 50),\n",
        "    batch_size=32,\n",
        "    class_mode='binary'\n",
        ")"
      ]
    },
    {
      "cell_type": "code",
      "execution_count": 37,
      "metadata": {
        "colab": {
          "base_uri": "https://localhost:8080/"
        },
        "id": "_43mOXQvkkiY",
        "outputId": "9b14eb7b-92e9-47d2-8a66-43a98d2e6252"
      },
      "outputs": [
        {
          "name": "stdout",
          "output_type": "stream",
          "text": [
            "Found 55506 images belonging to 2 classes.\n"
          ]
        }
      ],
      "source": [
        "validation_generator = ImageDataGenerator(rescale=1./255).flow_from_directory(\n",
        "    '/content/mammograph_dataset/test',\n",
        "    target_size=(50, 50),\n",
        "    batch_size=32,\n",
        "    class_mode='binary'\n",
        ")\n"
      ]
    },
    {
      "cell_type": "code",
      "execution_count": 38,
      "metadata": {
        "id": "rY2DYg7fk8yM"
      },
      "outputs": [],
      "source": [
        "from tensorflow.keras.models import Sequential\n",
        "from tensorflow.keras.layers import Conv2D, MaxPooling2D, Flatten, Dense, Dropout\n",
        "\n",
        "model = Sequential([\n",
        "    Conv2D(32, (2, 2), activation='relu', input_shape=(50, 50, 3)),\n",
        "    MaxPooling2D((2, 2)),\n",
        "    Conv2D(64, (2, 2), activation='relu'),\n",
        "    MaxPooling2D((2, 2)),\n",
        "    Conv2D(128, (2, 2), activation='relu'),\n",
        "    MaxPooling2D((2, 2)),\n",
        "    Flatten(),\n",
        "    Dense(512, activation='relu'),\n",
        "    Dropout(0.5),\n",
        "    Dense(1, activation='sigmoid')\n",
        "])\n",
        "\n",
        "model.compile(optimizer='adam',\n",
        "              loss='binary_crossentropy',\n",
        "              metrics=['accuracy'])\n"
      ]
    },
    {
      "cell_type": "code",
      "execution_count": 41,
      "metadata": {
        "id": "nRP52V1Sn1SD"
      },
      "outputs": [],
      "source": [
        "from tensorflow.keras.callbacks import EarlyStopping\n",
        "early_stopping = EarlyStopping(monitor='val_accuracy',\n",
        "                               patience=3,\n",
        "                               mode='max',\n",
        "                               restore_best_weights=True,\n",
        "                               verbose=1,\n",
        "                               min_delta=0.01,\n",
        "                               baseline=0.90)"
      ]
    },
    {
      "cell_type": "code",
      "execution_count": 44,
      "metadata": {
        "colab": {
          "base_uri": "https://localhost:8080/"
        },
        "id": "Ih3IW8qNmRvV",
        "outputId": "d183c072-2b3f-4182-cd42-bed2c4b6a489"
      },
      "outputs": [
        {
          "name": "stdout",
          "output_type": "stream",
          "text": [
            "Epoch 1/50\n",
            "  6938/222018 [..............................] - ETA: 2:59:28 - loss: 0.3244 - accuracy: 0.8630"
          ]
        },
        {
          "name": "stderr",
          "output_type": "stream",
          "text": [
            "WARNING:tensorflow:Your input ran out of data; interrupting training. Make sure that your dataset or generator can generate at least `steps_per_epoch * epochs` batches (in this case, 11100900 batches). You may need to use the repeat() function when building your dataset.\n",
            "WARNING:tensorflow:Your input ran out of data; interrupting training. Make sure that your dataset or generator can generate at least `steps_per_epoch * epochs` batches (in this case, 55506 batches). You may need to use the repeat() function when building your dataset.\n"
          ]
        },
        {
          "name": "stdout",
          "output_type": "stream",
          "text": [
            "\b\b\b\b\b\b\b\b\b\b\b\b\b\b\b\b\b\b\b\b\b\b\b\b\b\b\b\b\b\b\b\b\b\b\b\b\b\b\b\b\b\b\b\b\b\b\b\b\b\b\b\b\b\b\b\b\b\b\b\b\b\b\b\b\b\b\b\b\b\b\b\b\b\b\b\b\b\b\b\b\b\b\b\b\b\b\b\b\b\b\b\b\b\b\b\r222018/222018 [==============================] - 373s 2ms/step - loss: 0.3244 - accuracy: 0.8630 - val_loss: 0.3366 - val_accuracy: 0.8604\n"
          ]
        }
      ],
      "source": [
        "history = model.fit(\n",
        "    train_generator,\n",
        "    steps_per_epoch=train_generator.samples,\n",
        "    epochs=50,\n",
        "    validation_data=validation_generator,\n",
        "    validation_steps=validation_generator.samples,\n",
        "    callbacks=[early_stopping]\n",
        ")\n"
      ]
    },
    {
      "cell_type": "code",
      "execution_count": 46,
      "metadata": {
        "id": "OXq6VupvxLRL"
      },
      "outputs": [],
      "source": [
        "model.save(\"breast_cancer.keras\")"
      ]
    }
  ],
  "metadata": {
    "accelerator": "GPU",
    "colab": {
      "gpuType": "T4",
      "provenance": []
    },
    "kernelspec": {
      "display_name": "Python 3",
      "name": "python3"
    },
    "language_info": {
      "name": "python"
    }
  },
  "nbformat": 4,
  "nbformat_minor": 0
}
